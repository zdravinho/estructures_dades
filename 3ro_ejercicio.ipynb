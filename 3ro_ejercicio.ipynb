{
 "cells": [
  {
   "cell_type": "code",
   "execution_count": 18,
   "id": "caae4341",
   "metadata": {},
   "outputs": [
    {
     "name": "stdout",
     "output_type": "stream",
     "text": [
      "1.98\n",
      "14\n",
      "Peres\n"
     ]
    }
   ],
   "source": [
    "numero = [4, 2, 9, 3, 7, 5, 3, 1, 8, 6]\n",
    "\n",
    "# Quants números hi ha?\n",
    "print(len(numero)) # Output: 10\n",
    "\n",
    "# Quantes vegades apareix el número 3.\n",
    "print(numero.count(3)) # Output: 2\n",
    "\n",
    "# Quantes vegades apareixen els nombres 3 i 4?\n",
    "print(numero.count(3) + numero.count(4)) # Output: 3\n",
    "\n",
    "# Quin és el número més gran?\n",
    "print(max(numero)) # Output: 9\n",
    "\n",
    "# Quins són els 3 números més petits?\n",
    "print(sorted(numero)[:3]) # Output: [1, 2, 3]\n",
    "\n",
    "# Quin és el rang d’aquesta llista?\n",
    "print(max(numero) - min(numero)) # Output: 8"
   ]
  }
 ],
 "metadata": {
  "kernelspec": {
   "display_name": "Python 3 (ipykernel)",
   "language": "python",
   "name": "python3"
  },
  "language_info": {
   "codemirror_mode": {
    "name": "ipython",
    "version": 3
   },
   "file_extension": ".py",
   "mimetype": "text/x-python",
   "name": "python",
   "nbconvert_exporter": "python",
   "pygments_lexer": "ipython3",
   "version": "3.9.13"
  }
 },
 "nbformat": 4,
 "nbformat_minor": 5
}
