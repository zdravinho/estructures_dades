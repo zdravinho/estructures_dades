{
 "cells": [
  {
   "cell_type": "code",
   "execution_count": 18,
   "id": "caae4341",
   "metadata": {},
   "outputs": [
    {
     "name": "stdout",
     "output_type": "stream",
     "text": [
      "1.98\n",
      "14\n",
      "Peres\n"
     ]
    }
   ],
   "source": [
    "compra = { \"Pomes\" : {\"Qty\": 5, \"€\": 0.42}, \"Peres\" : {\"Qty\": 3, \"€\": 0.66} }\n",
    "\n",
    "# Afegeix alguna fruita més\n",
    "compra[\"Plàtans\"] = {\"Qty\": 2, \"€\": 0.30}\n",
    "compra[\"Taronges\"] = {\"Qty\": 4, \"€\": 0.50}\n",
    "\n",
    "# Quant han costat les peres en total?\n",
    "cost_peres = compra[\"Peres\"][\"Qty\"] * compra[\"Peres\"][\"€\"]\n",
    "print(cost_peres) # Output: 1.98\n",
    "\n",
    "# Quantes fruites hem comprat en total?\n",
    "total_qty = sum([fruita[\"Qty\"] for fruita in compra.values()])\n",
    "print(total_qty) # Output: 14\n",
    "\n",
    "# Quina és la fruita més cara?\n",
    "mes_cara = max(compra, key=lambda x: compra[x][\"€\"])\n",
    "print(mes_cara) # Output: \"Peres\"\n"
   ]
  }
 ],
 "metadata": {
  "kernelspec": {
   "display_name": "Python 3 (ipykernel)",
   "language": "python",
   "name": "python3"
  },
  "language_info": {
   "codemirror_mode": {
    "name": "ipython",
    "version": 3
   },
   "file_extension": ".py",
   "mimetype": "text/x-python",
   "name": "python",
   "nbconvert_exporter": "python",
   "pygments_lexer": "ipython3",
   "version": "3.9.13"
  }
 },
 "nbformat": 4,
 "nbformat_minor": 5
}
