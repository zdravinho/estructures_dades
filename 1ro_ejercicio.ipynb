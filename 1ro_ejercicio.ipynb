{
 "cells": [
  {
   "cell_type": "code",
   "execution_count": 19,
   "id": "caae4341",
   "metadata": {},
   "outputs": [
    {
     "name": "stdout",
     "output_type": "stream",
     "text": [
      "10\n",
      "2\n",
      "3\n",
      "9\n",
      "[1, 2, 3]\n",
      "8\n"
     ]
    }
   ],
   "source": [
    "quarters = [\n",
    "    [\"Enero\", \"Febrero\", \"Marzo\"], \n",
    "    [\"Abril\", \"Mayo\", \"Junio\"], \n",
    "    [\"Julio\", \"Agosto\", \"Septiembre\"], \n",
    "    [\"Octubre\", \"Noviembre\", \"Diciembre\"]\n",
    "]"
   ]
  },
  {
   "cell_type": "code",
   "execution_count": null,
   "id": "5be5415b",
   "metadata": {},
   "outputs": [],
   "source": []
  }
 ],
 "metadata": {
  "kernelspec": {
   "display_name": "Python 3 (ipykernel)",
   "language": "python",
   "name": "python3"
  },
  "language_info": {
   "codemirror_mode": {
    "name": "ipython",
    "version": 3
   },
   "file_extension": ".py",
   "mimetype": "text/x-python",
   "name": "python",
   "nbconvert_exporter": "python",
   "pygments_lexer": "ipython3",
   "version": "3.9.13"
  }
 },
 "nbformat": 4,
 "nbformat_minor": 5
}
